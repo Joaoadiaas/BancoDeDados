{
 "cells": [
  {
   "cell_type": "code",
   "execution_count": 1,
   "metadata": {},
   "outputs": [],
   "source": [
    "import tkinter as tk\n",
    "import sqlite3 \n",
    "import pandas as pd"
   ]
  },
  {
   "cell_type": "code",
   "execution_count": 2,
   "metadata": {},
   "outputs": [
    {
     "data": {
      "text/plain": [
       "<sqlite3.Cursor at 0x15db65cf3c0>"
      ]
     },
     "execution_count": 2,
     "metadata": {},
     "output_type": "execute_result"
    }
   ],
   "source": [
    "conexao = sqlite3.connect('C:/Users/J/Desktop/Tabelas/banco_de_dados/banco_clientes.db')\n",
    "c = conexao.cursor()\n",
    "c.execute('''CREATE TABLE clientes(nome text, sobrenome text, email text, telefone text)''')"
   ]
  },
  {
   "cell_type": "code",
   "execution_count": 3,
   "metadata": {},
   "outputs": [],
   "source": [
    "conexao.commit()\n",
    "conexao.close()"
   ]
  },
  {
   "cell_type": "code",
   "execution_count": 5,
   "metadata": {},
   "outputs": [
    {
     "ename": "SyntaxError",
     "evalue": "invalid syntax. Perhaps you forgot a comma? (1045190493.py, line 7)",
     "output_type": "error",
     "traceback": [
      "\u001b[1;36m  Cell \u001b[1;32mIn[5], line 7\u001b[1;36m\u001b[0m\n\u001b[1;33m    'nome':entry_nome.get()\u001b[0m\n\u001b[1;37m           ^\u001b[0m\n\u001b[1;31mSyntaxError\u001b[0m\u001b[1;31m:\u001b[0m invalid syntax. Perhaps you forgot a comma?\n"
     ]
    }
   ],
   "source": [
    "#Criar o cadastro\n",
    "def cadastrar_client():\n",
    "    conexao = sqlite3.connect('C:/Users/J/Desktop/Tabelas/banco_de_dados/banco_clientes.db')\n",
    "    c = conexao.cursor()\n",
    "    c.execute(\"INSERT INTO clientes VALUES (:nome, :sobrenome, :email, :telefone)\",\n",
    "            {\n",
    "            'nome':entry_nome.get()\n",
    "            'sobrenome':entry_sobrenome.get()\n",
    "            'email':entry_email.get() \n",
    "            'telefone':entry_telefone.get()\n",
    "            })\n",
    "\n",
    "#Deletar os nomes do campo após os nomes inseridos\n",
    "    entry_nome.delete(0, 'end')\n",
    "    entry_sobrenome.delete(0, 'end')\n",
    "    entry_email.delete(0, 'end')\n",
    "    entry_telefone.delete(0, 'end')\n",
    "\n",
    "    conexao.commit()\n",
    "    conexao.close()\n",
    "               \n",
    "#Exportar clientes para o excel\n",
    "def exporta_clientes(): \n",
    "    conexao = sqlite3.connect('C:/Users/J/Desktop/Tabelas/banco_de_dados/banco_clientes.db')\n",
    "    c = conexao.cursor()\n",
    "    c.execute(\"SELECT * , oid FROM clientes\") \n",
    "\n",
    "    clientes_cadastrados = c.fetchall()   \n",
    "    clientes_cadastrados = pd.DataFrame(clientes_cadastrados, columns=['nome', 'sobrenome', 'email', 'telefone', 'id_banco'])\n",
    "    clientes_cadastrados.to_excel('banco_clientes.xlsx')\n",
    "\n",
    "    print(clientes_cadastrados)\n",
    "\n",
    "    conexao_commit()\n",
    "    conexao_close()         \n",
    "                \n",
    "                "
   ]
  },
  {
   "cell_type": "code",
   "execution_count": null,
   "metadata": {},
   "outputs": [],
   "source": [
    "#Criar titulo da janela\n",
    "janela = tk.Tk()\n",
    "janela.title('Ferramenta de cadastro de clientes')"
   ]
  }
 ],
 "metadata": {
  "kernelspec": {
   "display_name": "Python 3",
   "language": "python",
   "name": "python3"
  },
  "language_info": {
   "codemirror_mode": {
    "name": "ipython",
    "version": 3
   },
   "file_extension": ".py",
   "mimetype": "text/x-python",
   "name": "python",
   "nbconvert_exporter": "python",
   "pygments_lexer": "ipython3",
   "version": "3.12.3"
  }
 },
 "nbformat": 4,
 "nbformat_minor": 2
}
