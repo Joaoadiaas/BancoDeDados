{
 "cells": [
  {
   "cell_type": "code",
   "execution_count": 23,
   "metadata": {},
   "outputs": [],
   "source": [
    "import tkinter as tk\n",
    "import sqlite3 \n",
    "import pandas as pd"
   ]
  },
  {
   "cell_type": "code",
   "execution_count": 24,
   "metadata": {},
   "outputs": [
    {
     "data": {
      "text/plain": [
       "<sqlite3.Cursor at 0x23c7f935140>"
      ]
     },
     "execution_count": 24,
     "metadata": {},
     "output_type": "execute_result"
    }
   ],
   "source": [
    "conexao = sqlite3.connect('C:/Users/J/Desktop/Tabelas/banco_de_dados/banco_clientes.db')\n",
    "c = conexao.cursor()\n",
    "c.execute('''CREATE TABLE IF NOT EXISTS clientes(nome text, sobrenome text, email text, telefone text)''')"
   ]
  },
  {
   "cell_type": "code",
   "execution_count": 25,
   "metadata": {},
   "outputs": [],
   "source": [
    "conexao.commit()\n",
    "conexao.close()"
   ]
  },
  {
   "cell_type": "code",
   "execution_count": 26,
   "metadata": {},
   "outputs": [],
   "source": [
    "def cadastrar_cliente():\n",
    "    conexao = sqlite3.connect('C:/Users/J/Desktop/Tabelas/banco_de_dados/banco_clientes.db')\n",
    "    c = conexao.cursor()\n",
    "    c.execute(\"INSERT INTO clientes VALUES (:nome, :sobrenome, :email, :telefone)\",\n",
    "            {\n",
    "            'nome': entry_nome.get(),\n",
    "            'sobrenome': entry_sobrenome.get(),\n",
    "            'email': entry_email.get(), \n",
    "            'telefone': entry_telefone.get()\n",
    "            })\n",
    "    \n",
    "    # Deletar os nomes do campo após os nomes inseridos\n",
    "    entry_nome.delete(0, 'end')\n",
    "    entry_sobrenome.delete(0, 'end')\n",
    "    entry_email.delete(0, 'end')\n",
    "    entry_telefone.delete(0, 'end')\n",
    "\n",
    "    conexao.commit()\n",
    "    conexao.close()\n",
    "\n",
    "               \n",
    "#Exportar clientes para o excel\n",
    "def exporta_cliente(): \n",
    "    conexao = sqlite3.connect('C:/Users/J/Desktop/Tabelas/banco_de_dados/banco_clientes.db')\n",
    "    c = conexao.cursor()\n",
    "    c.execute(\"SELECT * , oid FROM clientes\") \n",
    "\n",
    "    clientes_cadastrados = c.fetchall()   \n",
    "    clientes_cadastrados = pd.DataFrame(clientes_cadastrados, columns=['nome', 'sobrenome', 'email', 'telefone', 'id_banco'])\n",
    "    clientes_cadastrados.to_excel('banco_clientes.xlsx')\n",
    "\n",
    "    print(clientes_cadastrados)\n",
    "\n",
    "    conexao.commit()\n",
    "    conexao.close()         \n",
    "                \n",
    "                "
   ]
  },
  {
   "cell_type": "code",
   "execution_count": 27,
   "metadata": {},
   "outputs": [
    {
     "data": {
      "text/plain": [
       "''"
      ]
     },
     "execution_count": 27,
     "metadata": {},
     "output_type": "execute_result"
    }
   ],
   "source": [
    "#Criar titulo da janela\n",
    "janela = tk.Tk()\n",
    "janela.title('Ferramenta de cadastro de clientes')"
   ]
  },
  {
   "cell_type": "code",
   "execution_count": 28,
   "metadata": {},
   "outputs": [],
   "source": [
    "# Criar as etiquetas\n",
    "label_nome = tk.Label(janela, text = 'Nome', width=30)\n",
    "label_nome.grid(row=0,column=0,padx=10,pady=10)\n",
    "\n",
    "label_sobrenome = tk.Label(janela, text = 'Sobrenome', width=30)\n",
    "label_sobrenome.grid(row=1,column=0,padx=10,pady=10)\n",
    "\n",
    "label_email = tk.Label(janela, text = 'Email', width=30)\n",
    "label_email.grid(row=2,column=0,padx=10,pady=10)\n",
    "\n",
    "label_telefone = tk.Label(janela, text = 'Telefone', width=30)\n",
    "label_telefone.grid(row=3,column=0,padx=10,pady=10)"
   ]
  },
  {
   "cell_type": "code",
   "execution_count": 29,
   "metadata": {},
   "outputs": [],
   "source": [
    "#Criar Widgets\n",
    "entry_nome = tk.Entry(janela, text = 'Nome', width=30)\n",
    "entry_nome.grid(row=0,column=1,padx=10,pady=10)\n",
    "\n",
    "entry_sobrenome = tk.Entry(janela, text = 'Sobrenome', width=30)\n",
    "entry_sobrenome.grid(row=1,column=1,padx=10,pady=10)\n",
    "\n",
    "entry_email = tk.Entry(janela, text = 'Email', width=30)\n",
    "entry_email.grid(row=2,column=1,padx=10,pady=10)\n",
    "\n",
    "entry_telefone = tk.Entry(janela, text = 'Telefone', width=30)\n",
    "entry_telefone.grid(row=3,column=1,padx=10,pady=10)"
   ]
  },
  {
   "cell_type": "code",
   "execution_count": 30,
   "metadata": {},
   "outputs": [
    {
     "name": "stdout",
     "output_type": "stream",
     "text": [
      "    nome sobrenome               email    telefone  id_banco\n",
      "0   Joao     Pedro      joao@gmail.com  9.555-5555         1\n",
      "1  Bruno    Campos     bruno@gmail.com  9.666-6666         2\n",
      "2    Ana      Dias     ana@hotmail.com  9-777-7777         3\n",
      "3  Julia     Lopes  julia@yahoo.com.br  9.888-8888         4\n"
     ]
    }
   ],
   "source": [
    "#Botões para exportar e cadastrar\n",
    "botao_cadastrar = tk.Button(janela, text = 'Cadastrar Cliente', command=cadastrar_cliente)\n",
    "botao_cadastrar.grid(row=4,column=1,padx=10,pady=10,columnspan=2,ipadx=80)\n",
    "\n",
    "botao_exportar = tk.Button(janela, text = 'Exportar Base de Cliente', command=exporta_cliente)\n",
    "botao_exportar.grid(row=5,column=1,padx=10,pady=10,columnspan=2,ipadx=80)\n",
    "\n",
    "janela.mainloop()"
   ]
  }
 ],
 "metadata": {
  "kernelspec": {
   "display_name": "Python 3",
   "language": "python",
   "name": "python3"
  },
  "language_info": {
   "codemirror_mode": {
    "name": "ipython",
    "version": 3
   },
   "file_extension": ".py",
   "mimetype": "text/x-python",
   "name": "python",
   "nbconvert_exporter": "python",
   "pygments_lexer": "ipython3",
   "version": "3.12.3"
  }
 },
 "nbformat": 4,
 "nbformat_minor": 2
}
